{
 "cells": [
  {
   "cell_type": "code",
   "execution_count": 7,
   "id": "7a61d2f7",
   "metadata": {},
   "outputs": [
    {
     "name": "stdout",
     "output_type": "stream",
     "text": [
      "Expected: -10\n",
      "-10\n"
     ]
    }
   ],
   "source": [
    "!g++ baia.cpp -o baia\n",
    "!echo Expected: -10\n",
    "!echo 10 | baia.exe"
   ]
  },
  {
   "cell_type": "code",
   "execution_count": 8,
   "id": "0e730cb1",
   "metadata": {},
   "outputs": [
    {
     "name": "stdout",
     "output_type": "stream",
     "text": [
      "Expected: 28\n",
      "28\n"
     ]
    }
   ],
   "source": [
    "!g++ baia.cpp -o baia\n",
    "!echo Expected: 28\n",
    "!echo 14 | baia.exe"
   ]
  }
 ],
 "metadata": {
  "kernelspec": {
   "display_name": "Python 3",
   "language": "python",
   "name": "python3"
  },
  "language_info": {
   "codemirror_mode": {
    "name": "ipython",
    "version": 3
   },
   "file_extension": ".py",
   "mimetype": "text/x-python",
   "name": "python",
   "nbconvert_exporter": "python",
   "pygments_lexer": "ipython3",
   "version": "3.13.2"
  }
 },
 "nbformat": 4,
 "nbformat_minor": 5
}
