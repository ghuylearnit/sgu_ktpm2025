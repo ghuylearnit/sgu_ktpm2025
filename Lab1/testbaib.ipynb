{
 "cells": [
  {
   "cell_type": "code",
   "execution_count": 5,
   "id": "566e5d18",
   "metadata": {},
   "outputs": [
    {
     "name": "stdout",
     "output_type": "stream",
     "text": [
      "Expected: 24\n",
      "24\n"
     ]
    }
   ],
   "source": [
    "!g++ baib.cpp -o baib\n",
    "!echo Expected: 24\n",
    "!echo 12 | baib.exe"
   ]
  },
  {
   "cell_type": "code",
   "execution_count": 6,
   "id": "32846b70",
   "metadata": {},
   "outputs": [
    {
     "name": "stdout",
     "output_type": "stream",
     "text": [
      "Expected: -6\n",
      "-6\n"
     ]
    }
   ],
   "source": [
    "!g++ baib.cpp -o baib\n",
    "!echo Expected: -6\n",
    "!echo 6 | baib.exe"
   ]
  },
  {
   "cell_type": "code",
   "execution_count": 7,
   "id": "b9bf0bde",
   "metadata": {},
   "outputs": [
    {
     "name": "stdout",
     "output_type": "stream",
     "text": [
      "Expected: -8\n",
      "-8\n"
     ]
    }
   ],
   "source": [
    "!g++ baib.cpp -o baib\n",
    "!echo Expected: -8\n",
    "!echo -4 | baib.exe"
   ]
  }
 ],
 "metadata": {
  "kernelspec": {
   "display_name": "Python 3",
   "language": "python",
   "name": "python3"
  },
  "language_info": {
   "codemirror_mode": {
    "name": "ipython",
    "version": 3
   },
   "file_extension": ".py",
   "mimetype": "text/x-python",
   "name": "python",
   "nbconvert_exporter": "python",
   "pygments_lexer": "ipython3",
   "version": "3.13.2"
  }
 },
 "nbformat": 4,
 "nbformat_minor": 5
}
