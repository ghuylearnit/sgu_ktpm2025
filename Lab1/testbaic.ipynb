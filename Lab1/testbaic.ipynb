{
 "cells": [
  {
   "cell_type": "code",
   "execution_count": 3,
   "id": "dbdc7bcb",
   "metadata": {},
   "outputs": [
    {
     "name": "stdout",
     "output_type": "stream",
     "text": [
      "Expected: 16\n",
      "16\n"
     ]
    }
   ],
   "source": [
    "!g++ baic.cpp -o baic\n",
    "!echo Expected: 16\n",
    "!echo 8 | baic.exe"
   ]
  },
  {
   "cell_type": "code",
   "execution_count": 4,
   "id": "d8005d1f",
   "metadata": {},
   "outputs": [
    {
     "name": "stdout",
     "output_type": "stream",
     "text": [
      "Expected: -1\n",
      "2\n"
     ]
    }
   ],
   "source": [
    "!g++ baic.cpp -o baic\n",
    "!echo Expected: -1\n",
    "!echo 1 | baic.exe"
   ]
  },
  {
   "cell_type": "code",
   "execution_count": 5,
   "id": "1ccc53ce",
   "metadata": {},
   "outputs": [
    {
     "name": "stdout",
     "output_type": "stream",
     "text": [
      "Expected: 20\n",
      "20\n"
     ]
    }
   ],
   "source": [
    "!g++ baic.cpp -o baic\n",
    "!echo Expected: 20\n",
    "!echo 10 | baic.exe"
   ]
  }
 ],
 "metadata": {
  "kernelspec": {
   "display_name": "Python 3",
   "language": "python",
   "name": "python3"
  },
  "language_info": {
   "codemirror_mode": {
    "name": "ipython",
    "version": 3
   },
   "file_extension": ".py",
   "mimetype": "text/x-python",
   "name": "python",
   "nbconvert_exporter": "python",
   "pygments_lexer": "ipython3",
   "version": "3.13.2"
  }
 },
 "nbformat": 4,
 "nbformat_minor": 5
}
