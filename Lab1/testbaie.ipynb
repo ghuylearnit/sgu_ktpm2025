{
 "cells": [
  {
   "cell_type": "code",
   "execution_count": 1,
   "id": "7ff945a2",
   "metadata": {},
   "outputs": [
    {
     "name": "stdout",
     "output_type": "stream",
     "text": [
      "Expected: 6\n",
      "6\n"
     ]
    }
   ],
   "source": [
    "!g++ baie.cpp -o baie\n",
    "!echo Expected: 6\n",
    "!echo 2 4 6 | baie.exe"
   ]
  },
  {
   "cell_type": "code",
   "execution_count": 2,
   "id": "8cac0da7",
   "metadata": {},
   "outputs": [
    {
     "name": "stdout",
     "output_type": "stream",
     "text": [
      "Expected: 6\n",
      "6\n"
     ]
    }
   ],
   "source": [
    "!g++ baie.cpp -o baie\n",
    "!echo Expected: 6\n",
    "!echo 2 2 6 | baie.exe"
   ]
  },
  {
   "cell_type": "code",
   "execution_count": 4,
   "id": "d1693d9c",
   "metadata": {},
   "outputs": [
    {
     "name": "stdout",
     "output_type": "stream",
     "text": [
      "Expected: 4\n",
      "0\n"
     ]
    }
   ],
   "source": [
    "!g++ baie.cpp -o baie\n",
    "!echo Expected: 4\n",
    "!echo 2 4 4 | baie.exe"
   ]
  },
  {
   "cell_type": "code",
   "execution_count": 5,
   "id": "de685e40",
   "metadata": {},
   "outputs": [
    {
     "name": "stdout",
     "output_type": "stream",
     "text": [
      "Expected: 4\n",
      "4\n"
     ]
    }
   ],
   "source": [
    "!g++ baie.cpp -o baie\n",
    "!echo Expected: 4\n",
    "!echo 2 4 2 | baie.exe"
   ]
  },
  {
   "cell_type": "code",
   "execution_count": 6,
   "id": "b9e2e2cd",
   "metadata": {},
   "outputs": [
    {
     "name": "stdout",
     "output_type": "stream",
     "text": [
      "Expected: 2\n",
      "0\n"
     ]
    }
   ],
   "source": [
    "!g++ baie.cpp -o baie\n",
    "!echo Expected: 2\n",
    "!echo 2 2 2 | baie.exe"
   ]
  },
  {
   "cell_type": "code",
   "execution_count": 7,
   "id": "7337111a",
   "metadata": {},
   "outputs": [
    {
     "name": "stdout",
     "output_type": "stream",
     "text": [
      "Expected: 6\n",
      "6\n"
     ]
    }
   ],
   "source": [
    "!g++ baie.cpp -o baie\n",
    "!echo Expected: 6\n",
    "!echo 4 6 2 | baie.exe"
   ]
  },
  {
   "cell_type": "code",
   "execution_count": 8,
   "id": "3f1cc9c7",
   "metadata": {},
   "outputs": [
    {
     "name": "stdout",
     "output_type": "stream",
     "text": [
      "Expected: 6\n",
      "6\n"
     ]
    }
   ],
   "source": [
    "!g++ baie.cpp -o baie\n",
    "!echo Expected: 6\n",
    "!echo 6 2 4 | baie.exe"
   ]
  },
  {
   "cell_type": "code",
   "execution_count": 9,
   "id": "b8289fb1",
   "metadata": {},
   "outputs": [
    {
     "name": "stdout",
     "output_type": "stream",
     "text": [
      "Expected: 6\n",
      "6\n"
     ]
    }
   ],
   "source": [
    "!g++ baie.cpp -o baie\n",
    "!echo Expected: 6\n",
    "!echo 0 4 6 | baie.exe"
   ]
  },
  {
   "cell_type": "code",
   "execution_count": 10,
   "id": "5946e296",
   "metadata": {},
   "outputs": [
    {
     "name": "stdout",
     "output_type": "stream",
     "text": [
      "Expected: -2\n",
      "-2\n"
     ]
    }
   ],
   "source": [
    "!g++ baie.cpp -o baie\n",
    "!echo Expected: -2\n",
    "!echo -2 -4 -6 | baie.exe"
   ]
  }
 ],
 "metadata": {
  "kernelspec": {
   "display_name": "Python 3",
   "language": "python",
   "name": "python3"
  },
  "language_info": {
   "codemirror_mode": {
    "name": "ipython",
    "version": 3
   },
   "file_extension": ".py",
   "mimetype": "text/x-python",
   "name": "python",
   "nbconvert_exporter": "python",
   "pygments_lexer": "ipython3",
   "version": "3.13.2"
  }
 },
 "nbformat": 4,
 "nbformat_minor": 5
}
