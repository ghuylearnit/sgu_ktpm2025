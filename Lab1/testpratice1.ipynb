{
 "cells": [
  {
   "cell_type": "code",
   "execution_count": 3,
   "id": "6f047ebc",
   "metadata": {},
   "outputs": [
    {
     "name": "stdout",
     "output_type": "stream",
     "text": [
      "Expected: Infinite solutions\n",
      " Infinite solutions.\n"
     ]
    }
   ],
   "source": [
    "!g++ pratice1.cpp -o pratice1\n",
    "!echo Expected: Infinite solutions\n",
    "!echo 0 0 0 | pratice1.exe"
   ]
  },
  {
   "cell_type": "code",
   "execution_count": 4,
   "id": "9879b8b6",
   "metadata": {},
   "outputs": [
    {
     "name": "stdout",
     "output_type": "stream",
     "text": [
      "Expected: No solution\n",
      "No solution.\n"
     ]
    }
   ],
   "source": [
    "!g++ pratice1.cpp -o pratice1\n",
    "!echo Expected: No solution\n",
    "!echo 0 0 5 | pratice1.exe"
   ]
  },
  {
   "cell_type": "code",
   "execution_count": 5,
   "id": "ad901003",
   "metadata": {},
   "outputs": [
    {
     "name": "stdout",
     "output_type": "stream",
     "text": [
      "Expected: No solution\n",
      "No solution.\n"
     ]
    }
   ],
   "source": [
    "!g++ pratice1.cpp -o pratice1\n",
    "!echo Expected: No solution\n",
    "!echo 0 2 3 | pratice1.exe"
   ]
  },
  {
   "cell_type": "code",
   "execution_count": 6,
   "id": "ac684bd4",
   "metadata": {},
   "outputs": [
    {
     "name": "stdout",
     "output_type": "stream",
     "text": [
      "Expected: 2 -2\n",
      " The equation has 2 real solution(s): 2 -2 \n"
     ]
    }
   ],
   "source": [
    "!g++ pratice1.cpp -o pratice1\n",
    "!echo Expected: 2 -2\n",
    "!echo 0 2 -8 | pratice1.exe"
   ]
  },
  {
   "cell_type": "code",
   "execution_count": 7,
   "id": "a4c77c76",
   "metadata": {},
   "outputs": [
    {
     "name": "stdout",
     "output_type": "stream",
     "text": [
      "Expected: No solution\n",
      "No solution.\n"
     ]
    }
   ],
   "source": [
    "!g++ pratice1.cpp -o pratice1\n",
    "!echo Expected: No solution\n",
    "!echo 1 0 1 | pratice1.exe"
   ]
  },
  {
   "cell_type": "code",
   "execution_count": 8,
   "id": "f7b11ca5",
   "metadata": {},
   "outputs": [
    {
     "name": "stdout",
     "output_type": "stream",
     "text": [
      "Expected: 1 -1\n",
      " The equation has 2 real solution(s): 1 -1 \n"
     ]
    }
   ],
   "source": [
    "!g++ pratice1.cpp -o pratice1\n",
    "!echo Expected: 1 -1\n",
    "!echo 1 -2 1 | pratice1.exe"
   ]
  },
  {
   "cell_type": "code",
   "execution_count": 9,
   "id": "742d94d4",
   "metadata": {},
   "outputs": [
    {
     "name": "stdout",
     "output_type": "stream",
     "text": [
      "Expected: 1 -1\n",
      " The equation has 2 real solution(s): 1 -1 \n"
     ]
    }
   ],
   "source": [
    "!g++ pratice1.cpp -o pratice1\n",
    "!echo Expected: 1 -1\n",
    "!echo 1 0 -1 | pratice1.exe"
   ]
  },
  {
   "cell_type": "code",
   "execution_count": 11,
   "id": "fde1b2a7",
   "metadata": {},
   "outputs": [
    {
     "name": "stdout",
     "output_type": "stream",
     "text": [
      "Expected: 2 -2 1 -1\n",
      " The equation has 4 real solution(s): 2 -2 1 -1 \n"
     ]
    }
   ],
   "source": [
    "!g++ pratice1.cpp -o pratice1\n",
    "!echo Expected: 2 -2 1 -1\n",
    "!echo 1 -5 4 | pratice1.exe"
   ]
  }
 ],
 "metadata": {
  "kernelspec": {
   "display_name": "Python 3",
   "language": "python",
   "name": "python3"
  },
  "language_info": {
   "codemirror_mode": {
    "name": "ipython",
    "version": 3
   },
   "file_extension": ".py",
   "mimetype": "text/x-python",
   "name": "python",
   "nbconvert_exporter": "python",
   "pygments_lexer": "ipython3",
   "version": "3.13.2"
  }
 },
 "nbformat": 4,
 "nbformat_minor": 5
}
